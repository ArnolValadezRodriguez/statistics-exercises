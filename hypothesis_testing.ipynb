{
 "cells": [
  {
   "cell_type": "markdown",
   "metadata": {},
   "source": [
    "# Exercises"
   ]
  },
  {
   "cell_type": "markdown",
   "metadata": {},
   "source": [
    "For each of the following questions, formulate a null and alternative hypothesis (be as specific as you can be), then give an example of what a true positive, true negative, type I and type II errors would look like. Note that some of the questions are intentionally phrased in a vague way. It is your job to reword these as more precise questions that could be tested."
   ]
  },
  {
   "cell_type": "markdown",
   "metadata": {},
   "source": [
    "# do I need to reword the question?\n",
    "# what are the variables?\n",
    "# what type are the variables?\n",
    "# formulate null hypothesis\n",
    "# formulate alt hypothesis\n",
    "# example of True Positive\n",
    "# Example of True Negative\n",
    "# example of Type 1 error (False Positive)\n",
    "# example of Type 2 error (False Negative)\n",
    "# what type of tests should I run?"
   ]
  },
  {
   "cell_type": "markdown",
   "metadata": {},
   "source": [
    " - Has the network latency gone up since we switched internet service providers?"
   ]
  },
  {
   "cell_type": "markdown",
   "metadata": {},
   "source": [
    "- Null Hyptohesis = Network service/latency has no correlation to internet service providers\n",
    "- Alternative Hypothesis = Newtork service/latency has gone up since switching internet service providers\n",
    "- True positive = if alpha > p and is established that internet service provider does impact network service/latency\n",
    "- True negavite = if alpha < p and is established that internet service provider has no impact on network service/latency\n",
    "- Type 1 error: if network service/latency is better with a internet service provider through data but realistically there is no impact\n",
    "- Type 2 error: we don't reject that internet service has no impact on network latecny but there is significant impact"
   ]
  },
  {
   "cell_type": "markdown",
   "metadata": {},
   "source": [
    " - Is the website redesign any good?"
   ]
  },
  {
   "cell_type": "markdown",
   "metadata": {},
   "source": [
    "- Null Hyptohesis = \n",
    "- Alternative Hypothesis = \n",
    "- True positive = \n",
    "- True negavite = \n",
    "- Type 1 error: \n",
    "- Type 2 error: "
   ]
  },
  {
   "cell_type": "markdown",
   "metadata": {},
   "source": [
    " - Is our television ad driving more sales? "
   ]
  },
  {
   "cell_type": "markdown",
   "metadata": {},
   "source": [
    "- Null Hyptohesis = \n",
    "- Alternative Hypothesis = \n",
    "- True positive = \n",
    "- True negavite = \n",
    "- Type 1 error: \n",
    "- Type 2 error: "
   ]
  }
 ],
 "metadata": {
  "kernelspec": {
   "display_name": "Python 3",
   "language": "python",
   "name": "python3"
  },
  "language_info": {
   "codemirror_mode": {
    "name": "ipython",
    "version": 3
   },
   "file_extension": ".py",
   "mimetype": "text/x-python",
   "name": "python",
   "nbconvert_exporter": "python",
   "pygments_lexer": "ipython3",
   "version": "3.8.5"
  }
 },
 "nbformat": 4,
 "nbformat_minor": 4
}
