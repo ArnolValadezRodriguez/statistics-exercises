{
 "cells": [
  {
   "cell_type": "markdown",
   "metadata": {},
   "source": [
    "# Exercises"
   ]
  },
  {
   "cell_type": "markdown",
   "metadata": {},
   "source": [
    "For each of the following questions, formulate a null and alternative hypothesis (be as specific as you can be), then give an example of what a true positive, true negative, type I and type II errors would look like. Note that some of the questions are intentionally phrased in a vague way. It is your job to reword these as more precise questions that could be tested."
   ]
  },
  {
   "cell_type": "markdown",
   "metadata": {},
   "source": [
    "# do I need to reword the question?\n",
    "# what are the variables?\n",
    "# what type are the variables?\n",
    "# formulate null hypothesis\n",
    "# formulate alt hypothesis\n",
    "# example of True Positive\n",
    "# Example of True Negative\n",
    "# example of Type 1 error (False Positive)\n",
    "# example of Type 2 error (False Negative)\n",
    "# what type of tests should I run?"
   ]
  },
  {
   "cell_type": "markdown",
   "metadata": {},
   "source": [
    " - Has the network latency gone up since we switched internet service providers?"
   ]
  },
  {
   "cell_type": "markdown",
   "metadata": {},
   "source": [
    "null hypothesis: \n",
    "null hyptohesis = Internet service has no impact on network latency\n",
    "\n",
    "alternative hypothesis:\n",
    "alternative hypothesis = Newtork latency has gone up since switching internet service providers\n",
    "\n",
    "True positive:\n",
    "True positive = alpha > p value and we establish that internet service does impact network latency\n",
    "\n",
    "True negative:\n",
    "True negavite = alpha < p and we establish that internet service has no impact on network latency\n",
    "\n",
    "Type 1 error:\n",
    "Type 1 error: we reject that internet service has no impact on network latency but the truth is there is no impact\n",
    "\n",
    "Type 2 error:\n",
    "Type 2 error: we don't reject that internet service has no impact on network latecny but there is significant impact"
   ]
  },
  {
   "cell_type": "markdown",
   "metadata": {},
   "source": [
    " - Is the website redesign any good?"
   ]
  },
  {
   "cell_type": "code",
   "execution_count": null,
   "metadata": {},
   "outputs": [],
   "source": []
  },
  {
   "cell_type": "markdown",
   "metadata": {},
   "source": [
    " - Is our television ad driving more sales? "
   ]
  },
  {
   "cell_type": "code",
   "execution_count": null,
   "metadata": {},
   "outputs": [],
   "source": []
  }
 ],
 "metadata": {
  "kernelspec": {
   "display_name": "Python 3",
   "language": "python",
   "name": "python3"
  },
  "language_info": {
   "codemirror_mode": {
    "name": "ipython",
    "version": 3
   },
   "file_extension": ".py",
   "mimetype": "text/x-python",
   "name": "python",
   "nbconvert_exporter": "python",
   "pygments_lexer": "ipython3",
   "version": "3.8.5"
  }
 },
 "nbformat": 4,
 "nbformat_minor": 4
}
