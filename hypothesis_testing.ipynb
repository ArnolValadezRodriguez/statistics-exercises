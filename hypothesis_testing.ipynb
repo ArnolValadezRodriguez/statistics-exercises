{
 "cells": [
  {
   "cell_type": "markdown",
   "metadata": {},
   "source": [
    "# Exercises"
   ]
  },
  {
   "cell_type": "markdown",
   "metadata": {},
   "source": [
    "For each of the following questions, formulate a null and alternative hypothesis (be as specific as you can be), then give an example of what a true positive, true negative, type I and type II errors would look like. Note that some of the questions are intentionally phrased in a vague way. It is your job to reword these as more precise questions that could be tested."
   ]
  },
  {
   "cell_type": "markdown",
   "metadata": {},
   "source": [
    "### steps to breakdown question\n",
    "- do I need to reword the question?\n",
    "- what are the variables?\n",
    "- what type are the variables?\n",
    "- formulate null hypothesis\n",
    "- formulate alt hypothesis\n",
    "- example of True Positive\n",
    "- example of True Negative\n",
    "- example of Type 1 error (False Positive)\n",
    "- example of Type 2 error (False Negative)\n",
    "- what type of tests should I run?"
   ]
  },
  {
   "cell_type": "markdown",
   "metadata": {},
   "source": [
    " - Has the network latency gone up since we switched internet service providers?"
   ]
  },
  {
   "cell_type": "markdown",
   "metadata": {},
   "source": [
    "- Null Hypothesis = Network service/latency has no correlation to internet service providers\n",
    "- Alternative Hypothesis = Newtork service/latency has gone up since switching internet service providers\n",
    "- True positive = if alpha > p and is established that internet service provider does impact network service/latency\n",
    "- True negavite = if alpha < p and is established that internet service provider has no impact on network service/latency\n",
    "- Type 1 error: if network service/latency is better with a internet service provider through data but realistically there is no impact\n",
    "- Type 2 error: we don't reject that internet service has no impact on network latecny but there is significant impact"
   ]
  },
  {
   "cell_type": "markdown",
   "metadata": {},
   "source": [
    " - Is the website redesign any good?"
   ]
  },
  {
   "cell_type": "markdown",
   "metadata": {},
   "source": [
    "- Null Hypothesis = The number of click through's has actually not changed, meaning the redesign was not good\n",
    "- Alternative Hypothesis = The number of click through's has risen since the redesign so the redesign is good\n",
    "- True positive = Click through's are higher with the redesign \n",
    "- True negavite = Click through's are lower with the redesign\n",
    "- Type 1 error: Click through's are higher but not directly correlated to the redesign\n",
    "- Type 2 error: The redesign does increase clickthrough's "
   ]
  },
  {
   "cell_type": "markdown",
   "metadata": {},
   "source": [
    " - Is our television ad driving more sales? "
   ]
  },
  {
   "cell_type": "markdown",
   "metadata": {},
   "source": [
    "- Null Hypothesis = The television ad does not drive more sales\n",
    "- Alternative Hypothesis = The television ad does drive more sales\n",
    "- True positive = The television ad does increase the amount of sales\n",
    "- True negavite = The television ad doesn't increase the amount of sales\n",
    "- Type 1 error: The sales are up but not correlated to the television ad\n",
    "- Type 2 error: The sales aren't up but because of customer's not buying regardless if the television ad reached more people"
   ]
  },
  {
   "cell_type": "markdown",
   "metadata": {},
   "source": [
    "# T-Test Exercises"
   ]
  },
  {
   "cell_type": "markdown",
   "metadata": {},
   "source": [
    "Ace Realty wants to determine whether the average time it takes to sell homes is different for its two offices. A sample of 40 sales from office #1 revealed a mean of 90 days and a standard deviation of 15 days. A sample of 50 sales from office #2 revealed a mean of 100 days and a standard deviation of 20 days. Use a .05 level of significance."
   ]
  },
  {
   "cell_type": "markdown",
   "metadata": {},
   "source": [
    "Load the mpg dataset and use it to answer the following questions:"
   ]
  },
  {
   "cell_type": "markdown",
   "metadata": {},
   "source": [
    "- Is there a difference in fuel-efficiency in cars from 2008 vs 1999?"
   ]
  },
  {
   "cell_type": "code",
   "execution_count": null,
   "metadata": {},
   "outputs": [],
   "source": []
  },
  {
   "cell_type": "markdown",
   "metadata": {},
   "source": [
    "- Are compact cars more fuel-efficient than the average car?"
   ]
  },
  {
   "cell_type": "code",
   "execution_count": null,
   "metadata": {},
   "outputs": [],
   "source": []
  },
  {
   "cell_type": "markdown",
   "metadata": {},
   "source": [
    "- Do manual cars get better gas mileage than automatic cars?"
   ]
  },
  {
   "cell_type": "code",
   "execution_count": null,
   "metadata": {},
   "outputs": [],
   "source": []
  }
 ],
 "metadata": {
  "kernelspec": {
   "display_name": "Python 3",
   "language": "python",
   "name": "python3"
  },
  "language_info": {
   "codemirror_mode": {
    "name": "ipython",
    "version": 3
   },
   "file_extension": ".py",
   "mimetype": "text/x-python",
   "name": "python",
   "nbconvert_exporter": "python",
   "pygments_lexer": "ipython3",
   "version": "3.8.5"
  }
 },
 "nbformat": 4,
 "nbformat_minor": 4
}
